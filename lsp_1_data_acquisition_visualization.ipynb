{
  "nbformat": 4,
  "nbformat_minor": 0,
  "metadata": {
    "kernelspec": {
      "display_name": "Python 3",
      "language": "python",
      "name": "python3"
    },
    "language_info": {
      "codemirror_mode": {
        "name": "ipython",
        "version": 3
      },
      "file_extension": ".py",
      "mimetype": "text/x-python",
      "name": "python",
      "nbconvert_exporter": "python",
      "pygments_lexer": "ipython3",
      "version": "3.7.6"
    },
    "colab": {
      "name": "lsp_1_data_acquisition_visualization.ipynb",
      "provenance": [],
      "collapsed_sections": [],
      "toc_visible": true
    }
  },
  "cells": [
    {
      "cell_type": "markdown",
      "metadata": {
        "id": "8u7fBmDh-phU"
      },
      "source": [
        "# Lecture 1: Data Acquisition & Visualization"
      ]
    },
    {
      "cell_type": "markdown",
      "metadata": {
        "id": "IcjD9OxR-phZ"
      },
      "source": [
        "## Package: Pandas\n",
        "<img src = \"https://s3-ap-south-1.amazonaws.com/av-blog-media/wp-content/uploads/2018/03/pandas.jpg\" width = 200></img>\n",
        "* We will focus on **DataFrame**.\n",
        "* There are useful functions built in DataFrame:\n",
        "    * read_csv(), read_excel()\n",
        "    * sort_index(), sort_values(), dropna(), fillna()\n",
        "    * head(), tail(), info(), shape, count()\n",
        "    * index, columns, values\n",
        "    * plot.line(), hist()\n",
        "    * loc(), iloc()\n",
        "    * mean(), std(), max(), min(), describe(), pct_change()\n",
        "    * rolling(), apply()\n",
        "    * pd.concat(), pd.merge()\n",
        "* We start with the market data of 2330 and accomplish the following tasks:\n",
        "    * Reading data from excel files;\n",
        "    * Preprocessing data: dealing with the index;\n",
        "    * Making plots for the data;\n",
        "    * Making a birdview of the table;\n",
        "    * Accessing data;\n",
        "    * Calculating some indicators;\n",
        "    * Output to files.\n"
      ]
    },
    {
      "cell_type": "markdown",
      "metadata": {
        "id": "zrubDnAxN44b"
      },
      "source": [
        "### Reading Data from Files"
      ]
    },
    {
      "cell_type": "code",
      "metadata": {
        "id": "Pm0NMSqv81Uq"
      },
      "source": [
        "!wget https://www.csie.ntu.edu.tw/~d00922011/stats/data/2330tw.xlsx"
      ],
      "execution_count": null,
      "outputs": []
    },
    {
      "cell_type": "code",
      "metadata": {
        "scrolled": true,
        "id": "fx7oYYdD-phZ"
      },
      "source": [
        "import pandas as pd\n",
        "\n",
        "df = pd.read_excel(\"2330tw.xlsx\") # https://www.csie.ntu.edu.tw/~d00922011/stats/data/2330tw.xlsx\n",
        "\n",
        "df.head()"
      ],
      "execution_count": null,
      "outputs": []
    },
    {
      "cell_type": "markdown",
      "metadata": {
        "id": "rRz9JNjNN_J1"
      },
      "source": [
        "### Preprocessing: Index"
      ]
    },
    {
      "cell_type": "code",
      "metadata": {
        "scrolled": true,
        "id": "Dml9085c-pha"
      },
      "source": [
        "df.sort_values(by = \"Date\", inplace = True, ascending = True) # df = df.sort_values(by = \"Date\", ascending = True)\n",
        "\n",
        "df.head()"
      ],
      "execution_count": null,
      "outputs": []
    },
    {
      "cell_type": "code",
      "metadata": {
        "scrolled": true,
        "id": "Mf7zOjSG-pha"
      },
      "source": [
        "df[\"Date\"] = pd.to_datetime(df[\"Date\"]) # convert date strings to datetime objects\n",
        "df.set_index(\"Date\", inplace = True)"
      ],
      "execution_count": null,
      "outputs": []
    },
    {
      "cell_type": "code",
      "metadata": {
        "id": "uPoaoP7l5WfT"
      },
      "source": [
        "df.head() # show the first 5 items"
      ],
      "execution_count": null,
      "outputs": []
    },
    {
      "cell_type": "markdown",
      "metadata": {
        "id": "0YXeksR5OI-Y"
      },
      "source": [
        "### Birdview of Table"
      ]
    },
    {
      "cell_type": "code",
      "metadata": {
        "scrolled": false,
        "id": "SZBPusFe-phb"
      },
      "source": [
        "df.info()"
      ],
      "execution_count": null,
      "outputs": []
    },
    {
      "cell_type": "code",
      "metadata": {
        "scrolled": true,
        "id": "s6y2MQ-j-phb"
      },
      "source": [
        "df.index"
      ],
      "execution_count": null,
      "outputs": []
    },
    {
      "cell_type": "code",
      "metadata": {
        "scrolled": true,
        "id": "TAeFHyGC-phb"
      },
      "source": [
        "df.columns"
      ],
      "execution_count": null,
      "outputs": []
    },
    {
      "cell_type": "code",
      "metadata": {
        "id": "IZuszQWJXhr8"
      },
      "source": [
        "df.values"
      ],
      "execution_count": null,
      "outputs": []
    },
    {
      "cell_type": "code",
      "metadata": {
        "scrolled": false,
        "id": "NmrUlOq4-phc"
      },
      "source": [
        "df.describe() # show descriptive statistics for each column"
      ],
      "execution_count": null,
      "outputs": []
    },
    {
      "cell_type": "markdown",
      "metadata": {
        "id": "5UMRZuzLTk5o"
      },
      "source": [
        "### Data Access"
      ]
    },
    {
      "cell_type": "markdown",
      "metadata": {
        "id": "28Z2_mYCV2FS"
      },
      "source": [
        "#### Column Selection by Name"
      ]
    },
    {
      "cell_type": "code",
      "metadata": {
        "id": "sWKiV7VVTpes"
      },
      "source": [
        "df[\"Close Price\"]"
      ],
      "execution_count": null,
      "outputs": []
    },
    {
      "cell_type": "markdown",
      "metadata": {
        "id": "kd3YSSXkV5A3"
      },
      "source": [
        "#### Row Selection by Index Label"
      ]
    },
    {
      "cell_type": "code",
      "metadata": {
        "id": "dCgSXY_STVBm"
      },
      "source": [
        "df.loc[\"2021-06-28\"]"
      ],
      "execution_count": null,
      "outputs": []
    },
    {
      "cell_type": "code",
      "metadata": {
        "id": "20ercvMtVocm"
      },
      "source": [
        "df.loc[\"2021-06-01\" : \"2021-06-30\"] # You can select the data of a range of dates directly."
      ],
      "execution_count": null,
      "outputs": []
    },
    {
      "cell_type": "markdown",
      "metadata": {
        "id": "mNmSeu2yWUlI"
      },
      "source": [
        "#### Data Selection by Index Location: iloc()"
      ]
    },
    {
      "cell_type": "code",
      "metadata": {
        "id": "TVNNCPJ6WMNP"
      },
      "source": [
        "df.iloc[-5:] # df.tail()"
      ],
      "execution_count": null,
      "outputs": []
    },
    {
      "cell_type": "markdown",
      "metadata": {
        "id": "39Dr31rTOP8I"
      },
      "source": [
        "### Plotting"
      ]
    },
    {
      "cell_type": "code",
      "metadata": {
        "scrolled": true,
        "id": "mtth5AVF-phc"
      },
      "source": [
        "df[\"Close Price\"].plot.line()"
      ],
      "execution_count": null,
      "outputs": []
    },
    {
      "cell_type": "code",
      "metadata": {
        "scrolled": true,
        "id": "5tRxtIuj-phc"
      },
      "source": [
        "df.plot?"
      ],
      "execution_count": null,
      "outputs": []
    },
    {
      "cell_type": "code",
      "metadata": {
        "scrolled": true,
        "id": "eSXKk7Dz-phc"
      },
      "source": [
        "fig = df[\"Close Price\"].plot.line(grid = True, ylabel = \"Price\")\n",
        "# fig.set_ylabel(\"Price\")"
      ],
      "execution_count": null,
      "outputs": []
    },
    {
      "cell_type": "code",
      "metadata": {
        "id": "rOQdblvoYFZN"
      },
      "source": [
        "df[\"Volume\"].plot.bar() # See https://stackoverflow.com/questions/30133280/pandas-bar-plot-changes-date-format"
      ],
      "execution_count": null,
      "outputs": []
    },
    {
      "cell_type": "code",
      "metadata": {
        "id": "BH6OD5IJ8iet"
      },
      "source": [
        "df[[\"Close Price\", \"Volume\"]].plot.line()"
      ],
      "execution_count": null,
      "outputs": []
    },
    {
      "cell_type": "markdown",
      "metadata": {
        "id": "EMuYj6NLOajv"
      },
      "source": [
        "### Calculation: rolling(), mean()"
      ]
    },
    {
      "cell_type": "code",
      "metadata": {
        "scrolled": true,
        "id": "jie8ATZx-phd"
      },
      "source": [
        "df[\"SMA5\"] = df[\"Close Price\"].rolling(5).mean() # SMA: simple moving average\n",
        "\n",
        "df.head()"
      ],
      "execution_count": null,
      "outputs": []
    },
    {
      "cell_type": "code",
      "metadata": {
        "scrolled": true,
        "id": "V0f2aJFE-phd"
      },
      "source": [
        "df[[\"Close Price\", \"SMA5\"]].plot.line(grid = True)"
      ],
      "execution_count": null,
      "outputs": []
    },
    {
      "cell_type": "code",
      "metadata": {
        "scrolled": true,
        "id": "b0S6RgnQ-phd"
      },
      "source": [
        "df[\"Bias\"] = (df[\"Close Price\"] - df[\"SMA5\"]) / df[\"SMA5\"] * 100 # Bias: 乖離率\n",
        "\n",
        "df[\"Bias\"].head(8)"
      ],
      "execution_count": null,
      "outputs": []
    },
    {
      "cell_type": "code",
      "metadata": {
        "id": "oP1-hzWyc_bG"
      },
      "source": [
        "ax = df[\"Bias\"].plot.line(grid = True)\n",
        "ax.set_ylabel(\"Bias (%)\")"
      ],
      "execution_count": null,
      "outputs": []
    },
    {
      "cell_type": "markdown",
      "metadata": {
        "id": "MLbbg_pmOmQ-"
      },
      "source": [
        "### Calculation: Percentage Change"
      ]
    },
    {
      "cell_type": "code",
      "metadata": {
        "scrolled": true,
        "id": "1P66ktN0-phd"
      },
      "source": [
        "df[\"Return rate (%)\"] = df[\"Close Price\"].pct_change() * 100"
      ],
      "execution_count": null,
      "outputs": []
    },
    {
      "cell_type": "code",
      "metadata": {
        "scrolled": true,
        "id": "jlqvJOcp-phe"
      },
      "source": [
        "ax = df[\"Return rate (%)\"].plot.line(grid = True)\n",
        "ax.set_ylabel(\"Return rate (%)\")"
      ],
      "execution_count": null,
      "outputs": []
    },
    {
      "cell_type": "code",
      "metadata": {
        "scrolled": true,
        "id": "huFHIxiw-phe"
      },
      "source": [
        "ax = df[\"Return rate (%)\"].plot.hist(bins = 40, grid = True)\n",
        "ax.set_xlabel(\"Return rate (%)\")"
      ],
      "execution_count": null,
      "outputs": []
    },
    {
      "cell_type": "markdown",
      "metadata": {
        "id": "EwvSeDjmURX1"
      },
      "source": [
        "### Filtering"
      ]
    },
    {
      "cell_type": "code",
      "metadata": {
        "id": "9tselomJHH8L"
      },
      "source": [
        "df[\"Return rate (%)\"]"
      ],
      "execution_count": null,
      "outputs": []
    },
    {
      "cell_type": "code",
      "metadata": {
        "id": "_VXFXJLlT6qp"
      },
      "source": [
        "mask1 = df[\"Return rate (%)\"] >= 5\n",
        "mask2 = df[\"Return rate (%)\"] <= -5\n",
        "\n",
        "mask = mask1 | mask2  # logical operator: & (and), | (or)"
      ],
      "execution_count": null,
      "outputs": []
    },
    {
      "cell_type": "code",
      "metadata": {
        "id": "a6dEr0zBUAut"
      },
      "source": [
        "df.index[mask]"
      ],
      "execution_count": null,
      "outputs": []
    },
    {
      "cell_type": "code",
      "metadata": {
        "id": "FgdDidWQdTdy"
      },
      "source": [
        "len(df.index[mask])"
      ],
      "execution_count": null,
      "outputs": []
    },
    {
      "cell_type": "code",
      "metadata": {
        "id": "GO5JSasJa4pw"
      },
      "source": [
        "df[\"Close Price\"].plot.line()\n",
        "df[\"Close Price\"][mask].plot.line(linestyle = \"\", marker = \"o\", color = \"r\", grid = True)"
      ],
      "execution_count": null,
      "outputs": []
    },
    {
      "cell_type": "markdown",
      "metadata": {
        "id": "NhgL9Ae0SVhR"
      },
      "source": [
        "### Output to Files"
      ]
    },
    {
      "cell_type": "code",
      "metadata": {
        "id": "LSLRH_vOMhW0"
      },
      "source": [
        "df.head()"
      ],
      "execution_count": null,
      "outputs": []
    },
    {
      "cell_type": "code",
      "metadata": {
        "id": "8VNPVN9mMldk"
      },
      "source": [
        "df.to_excel(\"output.xlsx\") # output to a excel file"
      ],
      "execution_count": null,
      "outputs": []
    },
    {
      "cell_type": "markdown",
      "metadata": {
        "id": "mz73wbEI-phe"
      },
      "source": [
        "## Visualization"
      ]
    },
    {
      "cell_type": "markdown",
      "metadata": {
        "id": "1cjHG6Vw-phf"
      },
      "source": [
        "### Package: matplotlib"
      ]
    },
    {
      "cell_type": "code",
      "metadata": {
        "scrolled": true,
        "id": "brB4BkWQ-phf"
      },
      "source": [
        "import matplotlib.pyplot as plt\n",
        "\n",
        "params = {'legend.fontsize': 'x-large',\n",
        "      'figure.figsize': (12, 6),\n",
        "      'axes.labelsize': 'x-large',\n",
        "      'axes.titlesize': 'x-large',\n",
        "      'xtick.labelsize': 'x-large',\n",
        "      'ytick.labelsize': 'x-large'}\n",
        "plt.rcParams.update(params)"
      ],
      "execution_count": null,
      "outputs": []
    },
    {
      "cell_type": "markdown",
      "metadata": {
        "id": "lKFoh8ga-phf"
      },
      "source": [
        "### Example 1: Monte Carlo Simulation for $\\pi$"
      ]
    },
    {
      "cell_type": "code",
      "metadata": {
        "scrolled": false,
        "id": "izdFsztl-phf"
      },
      "source": [
        "import random\n",
        "\n",
        "N = 2000\n",
        "\n",
        "plt.figure(figsize = (5, 5))\n",
        "for i in range(N):\n",
        "    \n",
        "    x = random.uniform(0, 1)\n",
        "    y = random.uniform(0, 1)\n",
        "    \n",
        "    if x ** 2 + y ** 2 < 1:\n",
        "        plt.plot(x, y, \"r.\")\n",
        "    else:\n",
        "        plt.plot(x, y, \"b.\")"
      ],
      "execution_count": null,
      "outputs": []
    },
    {
      "cell_type": "markdown",
      "metadata": {
        "id": "oiMlYKZXfCW9"
      },
      "source": [
        "### Example 2: One Figure Two Curves"
      ]
    },
    {
      "cell_type": "code",
      "metadata": {
        "id": "tvv-SKxKeGOU"
      },
      "source": [
        "import numpy as np\n",
        "\n",
        "x = np.linspace(-np.pi, np.pi, 20)\n",
        "y1, y2 = np.cos(x), np.sin(x)"
      ],
      "execution_count": null,
      "outputs": []
    },
    {
      "cell_type": "code",
      "metadata": {
        "id": "zM0CQb5ofG_2"
      },
      "source": [
        "import matplotlib.pyplot as plt\n",
        "\n",
        "gcf = plt.figure(figsize = (10, 6))\n",
        "plt.plot(x, y1, marker = \"o\", linestyle = \"--\")\n",
        "plt.plot(x, y2, marker = \"d\")\n",
        "\n",
        "plt.xlabel(\"Time (s)\")\n",
        "plt.xticks([-np.pi / 2, np.pi / 2], labels = [\"$-\\dfrac{\\pi}{2}$\", \"$\\dfrac{\\pi}{2}$\"])\n",
        "plt.ylabel(\"Amplitude (Volt)\")\n",
        "plt.legend([\"cos(x)\", \"sin(x)\"], loc = \"lower center\")\n",
        "plt.text(0, 0, \"Hello, Pandas.\", fontsize = 16)\n",
        "plt.grid(True)\n",
        "plt.show()"
      ],
      "execution_count": null,
      "outputs": []
    },
    {
      "cell_type": "code",
      "metadata": {
        "id": "bC498WDRfJ8D"
      },
      "source": [
        "gcf.savefig(\"example.jpg\", dpi = 300)\n",
        "gcf.savefig(\"example.pdf\", dpi = 300)"
      ],
      "execution_count": null,
      "outputs": []
    },
    {
      "cell_type": "markdown",
      "metadata": {
        "id": "nzWsyO5IfOK4"
      },
      "source": [
        "### Example 3: Dual Y-Axis Plot"
      ]
    },
    {
      "cell_type": "code",
      "metadata": {
        "id": "9mPZh9Z9fNbM"
      },
      "source": [
        "y2 = 100 * y2\n",
        "\n",
        "plt.figure(figsize = (12, 6))\n",
        "fig, ax1 = plt.subplots()\n",
        "ax1.plot(x, y1, marker = \"o\", linestyle = \"--\")\n",
        "\n",
        "ax2 = ax1.twinx()\n",
        "ax2.plot(x, y2, color = \"green\", marker = \"o\")\n",
        "\n",
        "plt.xlabel(\"Time (s)\")\n",
        "plt.xticks([-np.pi / 2, np.pi / 2], labels = [\"$-\\dfrac{\\pi}{2}$\", \"$\\dfrac{\\pi}{2}$\"])\n",
        "plt.ylabel(\"Amplitude (Volt)\")\n",
        "fig.legend([\"cos(x)\", \"sin(x)\"], loc = \"lower center\")\n",
        "plt.grid(True)"
      ],
      "execution_count": null,
      "outputs": []
    },
    {
      "cell_type": "markdown",
      "metadata": {
        "id": "LCX_3--GOT-Z"
      },
      "source": [
        "#### Exercise: Price and Volume"
      ]
    },
    {
      "cell_type": "code",
      "metadata": {
        "id": "M5UKUv3lOSgD"
      },
      "source": [
        "fig, ax1 = plt.subplots()\n",
        "ax1.plot(df[\"Close Price\"])\n",
        "ax1.set_ylabel(\"Price\")\n",
        "ax1.grid(True)\n",
        "\n",
        "ax2 = ax1.twinx()\n",
        "ax2.bar(x = df.index, height = df[\"Volume\"], color = \"orange\")\n",
        "ax2.set_ylabel(\"Volume\")\n",
        "\n",
        "fig.legend([\"Close Price\", \"Volume\"], loc = \"upper left\")"
      ],
      "execution_count": null,
      "outputs": []
    },
    {
      "cell_type": "markdown",
      "metadata": {
        "id": "glb2qF5_t8As"
      },
      "source": [
        "### Example 4: Subplots"
      ]
    },
    {
      "cell_type": "code",
      "metadata": {
        "id": "sjFpmZIet2uQ"
      },
      "source": [
        "plt.subplot(211)\n",
        "plt.plot(df[\"Close Price\"])\n",
        "plt.ylabel(\"Price\")\n",
        "plt.grid(True)\n",
        "\n",
        "plt.subplot(212)\n",
        "plt.bar(x = df.index, height = df[\"Volume\"], color = \"red\")\n",
        "plt.ylabel(\"Volume\")\n",
        "plt.grid(True)"
      ],
      "execution_count": null,
      "outputs": []
    }
  ]
}