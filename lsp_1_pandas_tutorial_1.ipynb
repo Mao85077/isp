{
  "nbformat": 4,
  "nbformat_minor": 0,
  "metadata": {
    "colab": {
      "name": "lsp_1_pandas_tutorial_1.ipynb",
      "provenance": [],
      "collapsed_sections": []
    },
    "kernelspec": {
      "name": "python3",
      "display_name": "Python 3"
    }
  },
  "cells": [
    {
      "cell_type": "code",
      "metadata": {
        "id": "EkeOzLTPLw8A"
      },
      "source": [
        "!wget https://www.csie.ntu.edu.tw/~d00922011/stats/data/data.csv"
      ],
      "execution_count": null,
      "outputs": []
    },
    {
      "cell_type": "code",
      "metadata": {
        "id": "GcxbUoTUUodp"
      },
      "source": [
        "import pandas as pd\n",
        "\n",
        "df = pd.read_csv(\"./data.csv\")\n",
        "df"
      ],
      "execution_count": null,
      "outputs": []
    },
    {
      "cell_type": "code",
      "metadata": {
        "id": "WMcaoj-5VrFg"
      },
      "source": [
        "df[[\"合計 (%)\", \"男性 (%)\",\t\"女性 (%)\"]].plot.bar()"
      ],
      "execution_count": null,
      "outputs": []
    },
    {
      "cell_type": "code",
      "metadata": {
        "id": "MAEyHTfxOiy-"
      },
      "source": [
        "df.iloc[:, 2:5].plot.bar()"
      ],
      "execution_count": null,
      "outputs": []
    },
    {
      "cell_type": "code",
      "metadata": {
        "id": "Wi1W_7fNP4zO"
      },
      "source": [
        "df.columns = [\"Years\", \"Samples\", \"Prevalence\", \"Male\", \"Female\"]\n",
        "df"
      ],
      "execution_count": null,
      "outputs": []
    },
    {
      "cell_type": "code",
      "metadata": {
        "id": "EqLPgUpYQllb"
      },
      "source": [
        "df[\"Starting year\"] = df[\"Years\"].apply(lambda x: int(x[2:-1].split(\"-\")[0]) + 1911)\n",
        "df[\"End year\"] = df[\"Years\"].apply(lambda x: int(x[2:-1].split(\"-\")[1]) + 1911)\n",
        "\n",
        "df"
      ],
      "execution_count": null,
      "outputs": []
    },
    {
      "cell_type": "code",
      "metadata": {
        "id": "kvaUnwcfT-X6"
      },
      "source": [
        "del df[\"Years\"]\n",
        "df"
      ],
      "execution_count": null,
      "outputs": []
    },
    {
      "cell_type": "code",
      "metadata": {
        "id": "wpItrtDlUXLe"
      },
      "source": [
        "df = df.iloc[:, [4, 5, 0, 1, 2, 3]]\n",
        "df"
      ],
      "execution_count": null,
      "outputs": []
    },
    {
      "cell_type": "code",
      "metadata": {
        "id": "UbCcM3noVej2"
      },
      "source": [
        "df[[\"Male\", \"Female\"]].plot.bar()"
      ],
      "execution_count": null,
      "outputs": []
    }
  ]
}