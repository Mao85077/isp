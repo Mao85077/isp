{
  "nbformat": 4,
  "nbformat_minor": 0,
  "metadata": {
    "kernelspec": {
      "display_name": "Python 3",
      "language": "python",
      "name": "python3"
    },
    "language_info": {
      "codemirror_mode": {
        "name": "ipython",
        "version": 3
      },
      "file_extension": ".py",
      "mimetype": "text/x-python",
      "name": "python",
      "nbconvert_exporter": "python",
      "pygments_lexer": "ipython3",
      "version": "3.6.5"
    },
    "colab": {
      "name": "lsp_0_python_programming.ipynb",
      "provenance": [],
      "collapsed_sections": [],
      "toc_visible": true
    }
  },
  "cells": [
    {
      "cell_type": "markdown",
      "metadata": {
        "id": "7FJxB5IltaGx"
      },
      "source": [
        "# Lecture 0: Python Programming\n"
      ]
    },
    {
      "cell_type": "markdown",
      "metadata": {
        "id": "novleitwtaG2"
      },
      "source": [
        "## Hello, Python."
      ]
    },
    {
      "cell_type": "code",
      "metadata": {
        "id": "rXJWS-pPtaG2"
      },
      "source": [
        "print(\"Hello, Python.\")"
      ],
      "execution_count": null,
      "outputs": []
    },
    {
      "cell_type": "markdown",
      "metadata": {
        "id": "e54FbfdMtaG3"
      },
      "source": [
        "## What is a Program?\n",
        "* Program $\\approx$ data + algorithms\n"
      ]
    },
    {
      "cell_type": "markdown",
      "metadata": {
        "id": "qNWpVKIotaG3"
      },
      "source": [
        "### Variables\n",
        "* Syntax\n",
        "```python\n",
        " variable_name = value\n",
        "```\n",
        "* DO NOT use keywords as your variables.\n",
        "    * [List of Keywords in Python](https://www.programiz.com/python-programming/keyword-list)"
      ]
    },
    {
      "cell_type": "code",
      "metadata": {
        "id": "Xq6EHTdrtaG4"
      },
      "source": [
        "price = 123\n",
        "qty = 456\n",
        "total = price * qty\n",
        "\n",
        "print(price)\n",
        "print(qty)\n",
        "print(total)"
      ],
      "execution_count": null,
      "outputs": []
    },
    {
      "cell_type": "markdown",
      "metadata": {
        "id": "TGJlFhsRtaG4"
      },
      "source": [
        "### Data Types: Texts & Numbers"
      ]
    },
    {
      "cell_type": "markdown",
      "metadata": {
        "id": "JPuyHqqbtaG4"
      },
      "source": [
        "#### Texts\n",
        "* How to encode the text in binary?\n",
        "    * strings: https://docs.python.org/3/library/stdtypes.html#text-sequence-type-str"
      ]
    },
    {
      "cell_type": "code",
      "metadata": {
        "id": "I-gwWSXUtaG4"
      },
      "source": [
        "name = \"盧政良\"  # You can use Chinese in Python.\n",
        "id = 'arthurzllu'\n",
        "\n",
        "print(name)\n",
        "print(id)"
      ],
      "execution_count": null,
      "outputs": []
    },
    {
      "cell_type": "code",
      "metadata": {
        "id": "DPfo8fCUx1Pj"
      },
      "source": [
        "fullname = name + id\n",
        "\n",
        "print(fullname)"
      ],
      "execution_count": null,
      "outputs": []
    },
    {
      "cell_type": "markdown",
      "metadata": {
        "id": "pfAL7yw7taG5"
      },
      "source": [
        "#### Numbers\n",
        "* We have two numeric types ``int`` and ``float``."
      ]
    },
    {
      "cell_type": "code",
      "metadata": {
        "id": "TeYspU3ltaG5"
      },
      "source": [
        "r = 0.05 # interest rate = 5%"
      ],
      "execution_count": null,
      "outputs": []
    },
    {
      "cell_type": "markdown",
      "metadata": {
        "id": "BPrR6B5_taG5"
      },
      "source": [
        "#### Arithmetic Operators\n",
        "* Addition: $+$\n",
        "* Substraction: $-$\n",
        "* Multiplication: $*$\n",
        "* Division: /\n",
        "* Exponentiation: $**$\n",
        "* Quotient: //\n",
        "* Modulo: %"
      ]
    },
    {
      "cell_type": "code",
      "metadata": {
        "id": "c233dni5taG5"
      },
      "source": [
        "(1 + r) ** 10"
      ],
      "execution_count": null,
      "outputs": []
    },
    {
      "cell_type": "markdown",
      "metadata": {
        "id": "0BOooJcDtaG6"
      },
      "source": [
        "#### Numerical Error\n",
        "* Causes: **finite precision** and **truncation of infinite series** (we'll see this later).\n",
        "* News: [大立光熔斷22次是電腦惹的禍，投資人可求償](https://news.cnyes.com/news/id/3680649), 2017.1.10\n",
        "* Decimal fixed point and floating point arithmetic: https://docs.python.org/3/library/decimal.html"
      ]
    },
    {
      "cell_type": "code",
      "metadata": {
        "id": "33-81uBjtaG7"
      },
      "source": [
        "0.5 - 0.1 - 0.1 - 0.1 - 0.1 - 0.1"
      ],
      "execution_count": null,
      "outputs": []
    },
    {
      "cell_type": "code",
      "metadata": {
        "id": "A2CXcplDtaG7"
      },
      "source": [
        "0.3 - 0.2"
      ],
      "execution_count": null,
      "outputs": []
    },
    {
      "cell_type": "code",
      "metadata": {
        "id": "F2dAq3fAtaG7"
      },
      "source": [
        "3.14 + 1e20 - 1e20"
      ],
      "execution_count": null,
      "outputs": []
    },
    {
      "cell_type": "code",
      "metadata": {
        "id": "LosqI14etaG7"
      },
      "source": [
        "3.14 + 1e16 - 1e16"
      ],
      "execution_count": null,
      "outputs": []
    },
    {
      "cell_type": "markdown",
      "metadata": {
        "id": "7o_xoe-1taG5"
      },
      "source": [
        "#### Check the data type"
      ]
    },
    {
      "cell_type": "code",
      "metadata": {
        "id": "GEuVdI70taG6"
      },
      "source": [
        "stock = \"2330\"\n",
        "\n",
        "type(stock)"
      ],
      "execution_count": null,
      "outputs": []
    },
    {
      "cell_type": "code",
      "metadata": {
        "scrolled": true,
        "id": "hOsTROZYtaG6"
      },
      "source": [
        "stock = 2330\n",
        "\n",
        "type(stock)"
      ],
      "execution_count": null,
      "outputs": []
    },
    {
      "cell_type": "code",
      "metadata": {
        "id": "zZCPOQUpyslb"
      },
      "source": [
        "type(3.14)"
      ],
      "execution_count": null,
      "outputs": []
    },
    {
      "cell_type": "markdown",
      "metadata": {
        "id": "uNflMV73taG7"
      },
      "source": [
        "### Assignment Operator feat. Computation Model"
      ]
    },
    {
      "cell_type": "code",
      "metadata": {
        "id": "fqrIxQmvtaG8"
      },
      "source": [
        "x = 1\n",
        "y = x + 1\n",
        "print(y)"
      ],
      "execution_count": null,
      "outputs": []
    },
    {
      "cell_type": "code",
      "metadata": {
        "id": "z0gt9gVVtaG8"
      },
      "source": [
        "x = x + 1 # Is that weird to you?\n",
        "print(x)"
      ],
      "execution_count": null,
      "outputs": []
    },
    {
      "cell_type": "code",
      "metadata": {
        "id": "lLS73Rm71_fh"
      },
      "source": [
        "balance = 100\n",
        "r = 0.01\n",
        "\n",
        "balance = balance * (1 + r)\n",
        "print(balance)\n",
        "balance = balance * (1 + r)\n",
        "print(balance)\n",
        "balance = balance * (1 + r)\n",
        "print(balance)"
      ],
      "execution_count": null,
      "outputs": []
    },
    {
      "cell_type": "markdown",
      "metadata": {
        "id": "KPxjxY7PtaG8"
      },
      "source": [
        "## List\n",
        "* How to maintain a collection of data?"
      ]
    },
    {
      "cell_type": "code",
      "metadata": {
        "id": "_oqL-CJataG8"
      },
      "source": [
        "pool = [\"fb\", \"amzn\", \"aapl\", \"nflx\", \"goog\"]\n",
        "\n",
        "print(pool)"
      ],
      "execution_count": null,
      "outputs": []
    },
    {
      "cell_type": "code",
      "metadata": {
        "id": "qOTb7gK8taG8"
      },
      "source": [
        "pool = pool + [\"tsla\"]\n",
        "print(pool)\n",
        "\n",
        "# alternative\n",
        "pool.append(\"intc\")\n",
        "print(pool)"
      ],
      "execution_count": null,
      "outputs": []
    },
    {
      "cell_type": "markdown",
      "metadata": {
        "id": "qd0s0cXftaG9"
      },
      "source": [
        "### Slicing\n",
        "* Syntax \n",
        "```python\n",
        "start_idx : terminal_idx (exclusive) : steps\n",
        "```"
      ]
    },
    {
      "cell_type": "code",
      "metadata": {
        "id": "RFE6xgZltaG9"
      },
      "source": [
        "print(pool[0]) # string acts like a list"
      ],
      "execution_count": null,
      "outputs": []
    },
    {
      "cell_type": "code",
      "metadata": {
        "id": "Of_TLdpxtaG9"
      },
      "source": [
        "print(pool[0 : 4]) # slicing on lists/strings"
      ],
      "execution_count": null,
      "outputs": []
    },
    {
      "cell_type": "code",
      "metadata": {
        "id": "iP6o1EiptaG9"
      },
      "source": [
        "print(pool[-3 : ]) # more tricks on slicing"
      ],
      "execution_count": null,
      "outputs": []
    },
    {
      "cell_type": "code",
      "metadata": {
        "id": "fB9ET7UZtaG9"
      },
      "source": [
        "print(pool[0 : 3 : 2])"
      ],
      "execution_count": null,
      "outputs": []
    },
    {
      "cell_type": "code",
      "metadata": {
        "id": "y8k6gF2RtaG9"
      },
      "source": [
        "print(pool[::-1])"
      ],
      "execution_count": null,
      "outputs": []
    },
    {
      "cell_type": "code",
      "metadata": {
        "id": "-sxGt9RYqvqV"
      },
      "source": [
        "print(pool[::-2])"
      ],
      "execution_count": null,
      "outputs": []
    },
    {
      "cell_type": "markdown",
      "metadata": {
        "id": "HoSSTOzEtaG-"
      },
      "source": [
        "### APIs of Lists\n",
        "* **A**pplication **P**rogramming **I**nterface\n",
        "* What is the size of my list?\n",
        "    * Use ``len``."
      ]
    },
    {
      "cell_type": "code",
      "metadata": {
        "scrolled": true,
        "id": "R0GTcqR-taG-"
      },
      "source": [
        "print(len(pool)) # len(): return the number of elements in stock_pool"
      ],
      "execution_count": null,
      "outputs": []
    },
    {
      "cell_type": "code",
      "metadata": {
        "id": "eAL1xzJTtaG-"
      },
      "source": [
        "help(list) # help yourself. you need to learn API by RTFM"
      ],
      "execution_count": null,
      "outputs": []
    },
    {
      "cell_type": "markdown",
      "metadata": {
        "id": "J7vvjCZCtaG-"
      },
      "source": [
        "#### More Examples for List API"
      ]
    },
    {
      "cell_type": "code",
      "metadata": {
        "id": "BqW1BlggtaG-"
      },
      "source": [
        "print(\"Before sorted:\", pool)\n",
        "pool.sort()\n",
        "print(\"After sorted:\", pool)"
      ],
      "execution_count": null,
      "outputs": []
    },
    {
      "cell_type": "markdown",
      "metadata": {
        "id": "ri5k_1_staHA"
      },
      "source": [
        "## Flow Controls"
      ]
    },
    {
      "cell_type": "markdown",
      "metadata": {
        "id": "wgkNWXporeVt"
      },
      "source": [
        "### Conditional Statements (Branching)"
      ]
    },
    {
      "cell_type": "markdown",
      "metadata": {
        "id": "eX7Z6WgdtaHA"
      },
      "source": [
        "#### Rational Operators & Logical Operators\n",
        "* greater than: $>$\n",
        "* less than: $<$\n",
        "* equal to: $==$\n",
        "* and, or"
      ]
    },
    {
      "cell_type": "markdown",
      "metadata": {
        "id": "5KjbYRB7taHA"
      },
      "source": [
        "#### Syntax 1\n",
        "```python\n",
        "if condition:\n",
        "    actions\n",
        "```"
      ]
    },
    {
      "cell_type": "code",
      "metadata": {
        "id": "UFtdmhv3taHA"
      },
      "source": [
        "score = 88\n",
        "\n",
        "if score >= 60:\n",
        "    print(\"PASS\")"
      ],
      "execution_count": null,
      "outputs": []
    },
    {
      "cell_type": "markdown",
      "metadata": {
        "id": "l3ab1cAQtaHA"
      },
      "source": [
        "#### Syntax 2\n",
        "\n",
        "```python\n",
        "if condition:\n",
        "    actions\n",
        "else:\n",
        "    actions\n",
        "```"
      ]
    },
    {
      "cell_type": "code",
      "metadata": {
        "id": "YkSgBH7CtaHA"
      },
      "source": [
        "score = 59\n",
        "\n",
        "if score >= 60:\n",
        "    print(\"PASS\")\n",
        "else:\n",
        "    print(\"FAIL\")"
      ],
      "execution_count": null,
      "outputs": []
    },
    {
      "cell_type": "markdown",
      "metadata": {
        "id": "_65_WLSItaHA"
      },
      "source": [
        "#### Syntax 3\n",
        "```python\n",
        "if condition:\n",
        "    actions\n",
        "elif condition:\n",
        "    actions\n",
        ".\n",
        ".\n",
        ".\n",
        "else:\n",
        "    actions\n",
        "```"
      ]
    },
    {
      "cell_type": "code",
      "metadata": {
        "id": "VWM5cbxbtaHB"
      },
      "source": [
        "height = 1.73\n",
        "weight = 70\n",
        "bmi = weight / height ** 2\n",
        "\n",
        "if bmi < 18.5:\n",
        "    print(\"體重過輕\")\n",
        "elif bmi > 24:\n",
        "    print(\"體重過重\")\n",
        "else:\n",
        "    print(\"體重適中\")"
      ],
      "execution_count": null,
      "outputs": []
    },
    {
      "cell_type": "markdown",
      "metadata": {
        "id": "XmBeMuFktaHB"
      },
      "source": [
        "### Loops"
      ]
    },
    {
      "cell_type": "markdown",
      "metadata": {
        "id": "Ic0XMTsrtaHB"
      },
      "source": [
        "### For Loops\n",
        "* For the cases of knowing data size or number of iteration, we may use for loops.\n",
        "* To specify the certain number of iterations, use **range(stop)** or **range(start, stop[, step])** where *stop* is exclusive.\n",
        "* (FYR) Try this game: [celebrating 50 years of kids coding by Google](https://www.google.com/doodles/celebrating-50-years-of-kids-coding)."
      ]
    },
    {
      "cell_type": "code",
      "metadata": {
        "id": "tHPs8P2AtaHB"
      },
      "source": [
        "for x in range(6):\n",
        "    print(x)"
      ],
      "execution_count": null,
      "outputs": []
    },
    {
      "cell_type": "code",
      "metadata": {
        "id": "-tT7BtxKtaHB"
      },
      "source": [
        "for x in range(1, 6, 2):\n",
        "    print(x)"
      ],
      "execution_count": null,
      "outputs": []
    },
    {
      "cell_type": "markdown",
      "metadata": {
        "id": "1Y5vpgPotaHC"
      },
      "source": [
        "#### Example: Estimating $\\pi$ by Monte Carlo (MC) simulation\n",
        "- The MC algorithm is as follows:\n",
        "    - Set the number of samples $N = $1e5 and the number of points falling in the quarter circle $M = 0$.\n",
        "    - For each sample, use random.uniform(0, 1) to generate a sample point within a unit square.\n",
        "    - If this point falls in the quarter circle, then $M = M + 1$.\n",
        "    - Calculate the estimator $\\hat{\\pi} = \\dfrac{4 \\times M}{N}$, which is approaching the true value $\\pi$ as $N \\rightarrow \\infty$ (check the law of large number, LLN).\n",
        "![](https://upload.wikimedia.org/wikipedia/commons/thumb/8/84/Pi_30K.gif/220px-Pi_30K.gif)\n",
        "- References\n",
        "    - https://en.wikipedia.org/wiki/Monte_Carlo_method"
      ]
    },
    {
      "cell_type": "code",
      "metadata": {
        "id": "y8J0sHobtaHC"
      },
      "source": [
        "import random\n",
        "\n",
        "N = 1000000\n",
        "M = 0\n",
        "\n",
        "for i in range(N):\n",
        "    \n",
        "    x = random.uniform(0, 1)\n",
        "    y = random.uniform(0, 1)\n",
        "    \n",
        "    if x ** 2 + y ** 2 < 1:\n",
        "        M = M + 1\n",
        "\n",
        "print(4 * M / N)"
      ],
      "execution_count": null,
      "outputs": []
    },
    {
      "cell_type": "markdown",
      "metadata": {
        "id": "ENa35uJX8AeP"
      },
      "source": [
        "#### Example: Enumerations"
      ]
    },
    {
      "cell_type": "code",
      "metadata": {
        "id": "Ha27GvgQtaHC"
      },
      "source": [
        "for item in pool:\n",
        "    print(item)"
      ],
      "execution_count": null,
      "outputs": []
    },
    {
      "cell_type": "code",
      "metadata": {
        "id": "IUzp8qTq8InT"
      },
      "source": [
        "for idx, item in enumerate(pool):\n",
        "    print(idx, item)"
      ],
      "execution_count": null,
      "outputs": []
    },
    {
      "cell_type": "markdown",
      "metadata": {
        "id": "_rmPbnjPtaHD"
      },
      "source": [
        "### While Loops\n",
        "* Compared to ``for`` loops, you may use while loops for the cases when the number of iteration is unknown:"
      ]
    },
    {
      "cell_type": "markdown",
      "metadata": {
        "id": "77_NG0PptaHD"
      },
      "source": [
        "#### Example\n",
        "- Calculate the number of holding years so that the final asset value reaches the predetermined goal."
      ]
    },
    {
      "cell_type": "code",
      "metadata": {
        "id": "Q6kSFsFdtaHE"
      },
      "source": [
        "balance = 100\n",
        "annual_return_rate = 0.05\n",
        "goal = 200\n",
        "\n",
        "holding_years = 0\n",
        "while balance < goal:\n",
        "    balance = balance * (1 + annual_return_rate)\n",
        "    holding_years += 1\n",
        "    print(holding_years, round(balance, 2))"
      ],
      "execution_count": null,
      "outputs": []
    },
    {
      "cell_type": "markdown",
      "metadata": {
        "id": "6wPn1JWrtaHE"
      },
      "source": [
        "#### Exercise: Estimation of the Euler constant by Monte Carlo Simulation\n",
        "- Reference\n",
        "    - https://www.jstor.org/stable/2685243"
      ]
    },
    {
      "cell_type": "code",
      "metadata": {
        "id": "NLpbe6tJtaHE"
      },
      "source": [
        "import random\n",
        "\n",
        "N = 100000\n",
        "m = 0\n",
        "\n",
        "for _ in range(N):\n",
        "    \n",
        "    s = 0;\n",
        "    n = 0;\n",
        "    while s < 1:\n",
        "        s = s + random.uniform(0, 1)\n",
        "        n = n + 1\n",
        "        \n",
        "    m = m + n\n",
        "\n",
        "print('e ~', m / N)"
      ],
      "execution_count": null,
      "outputs": []
    },
    {
      "cell_type": "markdown",
      "metadata": {
        "id": "6EZxWrAL-v6O"
      },
      "source": [
        "### Jump Statemens\n",
        "* continue: skip this iteration\n",
        "* break: early termination\n",
        "* pass: no action"
      ]
    },
    {
      "cell_type": "code",
      "metadata": {
        "id": "81ld3Zd7taHE"
      },
      "source": [
        "for n in range(10):\n",
        "    if n == 5:\n",
        "        continue\n",
        "    print(n, end = \" \") # the keyword parameter \"end\" is used to specify the symbol after output"
      ],
      "execution_count": null,
      "outputs": []
    },
    {
      "cell_type": "code",
      "metadata": {
        "id": "Sv5yhVlk-y6S"
      },
      "source": [
        "for n in range(10):\n",
        "    if n == 5:\n",
        "        break\n",
        "    print(n, end = \" \")"
      ],
      "execution_count": null,
      "outputs": []
    },
    {
      "cell_type": "code",
      "metadata": {
        "id": "DJoAKZLh-0S1"
      },
      "source": [
        "for n in range(10):\n",
        "    if n == 5:\n",
        "      pass  \n",
        "    print(n, end = \" \")"
      ],
      "execution_count": null,
      "outputs": []
    },
    {
      "cell_type": "markdown",
      "metadata": {
        "id": "BKUhMYBJ8pbq"
      },
      "source": [
        "#### Exercise: Primality Test\n",
        "- Let $x$ be any positive integer larger than 2.\n",
        "- Then determine whether or not x is a prime.\n",
        "- You could start with the definition of prime numbers. (See https://en.wikipedia.org/wiki/Primality_test#Python_code.)"
      ]
    },
    {
      "cell_type": "code",
      "metadata": {
        "id": "8RFbRaxQ8vYO"
      },
      "source": [
        "x = 21\n",
        "\n",
        "for y in range(2, x):\n",
        "    if x % y == 0:\n",
        "        print(x, \"is not a prime.\")\n",
        "        break\n",
        "\n",
        "if y == x - 1:\n",
        "    print(x, \"is a prime.\")"
      ],
      "execution_count": null,
      "outputs": []
    },
    {
      "cell_type": "markdown",
      "metadata": {
        "id": "a6JHn5Sx_Mrp"
      },
      "source": [
        "## Functions\n",
        "* Code reuse\n",
        "* Action abstraction: information hiding, simplifying program structure\n",
        "\n",
        "```python\n",
        "def function_name(input):\n",
        "    body statements\n",
        "    return output\n",
        "```"
      ]
    },
    {
      "cell_type": "code",
      "metadata": {
        "id": "NQgGn4Vx_lWn"
      },
      "source": [
        "def f(x):\n",
        "    return x ** 2 + x + 1\n",
        "\n",
        "print(f(1))\n",
        "print(f(10))\n",
        "print(f(100))"
      ],
      "execution_count": null,
      "outputs": []
    },
    {
      "cell_type": "markdown",
      "metadata": {
        "id": "S424WJB0BP6D"
      },
      "source": [
        "#### Lambda: Anonymous Function\n",
        "```python\n",
        "function_handle = lambda input_list: function body\n",
        "```"
      ]
    },
    {
      "cell_type": "code",
      "metadata": {
        "id": "EGWlySeCBiKf"
      },
      "source": [
        "f = lambda x : x ** 2 + x + 1\n",
        "\n",
        "print(f(10))"
      ],
      "execution_count": null,
      "outputs": []
    }
  ]
}