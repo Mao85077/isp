{
  "nbformat": 4,
  "nbformat_minor": 0,
  "metadata": {
    "colab": {
      "name": "Lab2.ipynb",
      "provenance": [],
      "authorship_tag": "ABX9TyNvre5O9IH1L4wGMHL4i9A2",
      "include_colab_link": true
    },
    "kernelspec": {
      "name": "python3",
      "display_name": "Python 3"
    },
    "language_info": {
      "name": "python"
    }
  },
  "cells": [
    {
      "cell_type": "markdown",
      "metadata": {
        "id": "view-in-github",
        "colab_type": "text"
      },
      "source": [
        "<a href=\"https://colab.research.google.com/github/Mao85077/isp/blob/main/Lab2.ipynb\" target=\"_parent\"><img src=\"https://colab.research.google.com/assets/colab-badge.svg\" alt=\"Open In Colab\"/></a>"
      ]
    },
    {
      "cell_type": "code",
      "metadata": {
        "colab": {
          "base_uri": "https://localhost:8080/"
        },
        "id": "WNciis5bEv-U",
        "outputId": "fde8c569-f830-49d5-fec3-4173a1dae007"
      },
      "source": [
        "import time\n",
        "import scipy.stats\n",
        "import numpy as np\n",
        "import pandas as pd\n",
        "import matplotlib.pyplot as plt\n",
        "from typing import Generator\n",
        "\n",
        "n = 100\n",
        "a = 1664525\n",
        "c = 1013904223\n",
        "m = 2 ** 32\n",
        "x0 = int(time.time()% (10 ** n) / (10 ** n))\n",
        "result = [None] * n\n",
        "\n",
        "x = np.arange(0, 1, 1/n)\n",
        "xList = x.tolist()\n",
        "\n",
        "listFormat = ['{:.1f}'.format(i) for i in xList]\n",
        "print(\"x0: \", x0, \"; xList: \", listFormat)\n",
        "\n",
        "\n",
        "def lcg(modulus: int, a: int, c: int, seed: int) -> Generator[int, None, None]:\n",
        "    \"\"\"Linear congruential generator.\"\"\"\n",
        "    while True:\n",
        "        seed = (a * seed + c) % modulus\n",
        "        \n",
        "        yield seed\n",
        "\n",
        "\n",
        "for i in range(n):    \n",
        "    if i is 0:\n",
        "        result[i] = next(lcg(m, a, c, x0))        \n",
        "    else:\n",
        "        result[i] = next(lcg(m, a, c, temp))    \n",
        "    \n",
        "    temp = result[i]\n",
        "    result[i] = result[i] % (10 ** n) / (10 ** n)\n",
        "\n",
        "print(result)\n",
        "\n",
        "'''\n",
        "plt.bar(x = listFormat, height =result, width = 0.2, bottom = None, align = 'center')\n",
        "plt.show()\n",
        "'''\n",
        "\n",
        "scipy.stats.kstest(result, \"uniform\")"
      ],
      "execution_count": 54,
      "outputs": [
        {
          "output_type": "stream",
          "name": "stdout",
          "text": [
            "x0:  0 ; xList:  ['0.0', '0.0', '0.0', '0.0', '0.0', '0.1', '0.1', '0.1', '0.1', '0.1', '0.1', '0.1', '0.1', '0.1', '0.1', '0.1', '0.2', '0.2', '0.2', '0.2', '0.2', '0.2', '0.2', '0.2', '0.2', '0.2', '0.3', '0.3', '0.3', '0.3', '0.3', '0.3', '0.3', '0.3', '0.3', '0.4', '0.4', '0.4', '0.4', '0.4', '0.4', '0.4', '0.4', '0.4', '0.4', '0.5', '0.5', '0.5', '0.5', '0.5', '0.5', '0.5', '0.5', '0.5', '0.5', '0.6', '0.6', '0.6', '0.6', '0.6', '0.6', '0.6', '0.6', '0.6', '0.6', '0.7', '0.7', '0.7', '0.7', '0.7', '0.7', '0.7', '0.7', '0.7', '0.7', '0.8', '0.8', '0.8', '0.8', '0.8', '0.8', '0.8', '0.8', '0.8', '0.8', '0.8', '0.9', '0.9', '0.9', '0.9', '0.9', '0.9', '0.9', '0.9', '0.9', '1.0', '1.0', '1.0', '1.0', '1.0']\n",
            "[1.013904223e-91, 1.196435762e-91, 3.519870697e-91, 2.868466484e-91, 1.649599747e-91, 2.670642822e-91, 1.476291629e-91, 2.748932008e-91, 2.180890343e-91, 2.498801434e-91, 3.421909937e-91, 3.167820124e-91, 2.636375307e-91, 3.80154443e-91, 2.8987765e-93, 2.210837584e-91, 3.039689583e-91, 1.338634754e-91, 1.649346937e-91, 2.76887258e-91, 2.254235155e-91, 2.326606934e-91, 1.719328701e-91, 1.061592568e-91, 5.3332215e-93, 1.140036074e-91, 4.224358465e-91, 2.629538988e-91, 1.946028059e-91, 5.7377555e-92, 1.473591045e-91, 9.5141024e-93, 1.592739711e-91, 1.618554578e-91, 4.257218569e-91, 2.685635028e-91, 2.617994019e-91, 7.40185638e-92, 4.194465613e-91, 2.426187848e-91, 9.67350023e-92, 3.66635194e-92, 2.557108433e-91, 3.5034327e-91, 3.53185579e-92, 7.0624731e-92, 4.08928405e-92, 1.855199472e-91, 1.263785871e-91, 2.22369373e-91, 5.94074265e-92, 6.84458788e-92, 3.868161075e-91, 1.929325558e-91, 1.66605533e-92, 2.64035292e-91, 1.798252823e-91, 2.071081866e-91, 1.71871585e-92, 2.087307084e-91, 6.98505787e-92, 3.647212126e-91, 6.34580517e-92, 1.95695648e-91, 2.017242015e-91, 1.181484146e-91, 1.221761321e-91, 3.441954932e-91, 9.62199875e-92, 5.7125831e-92, 3.352760941e-91, 3.763818728e-91, 1.371701031e-91, 1.288172122e-91, 2.012225009e-91, 3.960962716e-91, 4.082010443e-91, 1.24903787e-91, 3.840393141e-91, 3.94702376e-91, 3.754607535e-91, 2.143919426e-91, 1.774599097e-91, 1.818014148e-91, 1.36057427e-92, 2.672030614e-91, 7.98365181e-92, 2.57568748e-91, 7.32141879e-92, 2.56957777e-91, 1.449661057e-91, 3.853535724e-91, 1.541586011e-91, 2.732705278e-91, 3.432461637e-91, 3.20021984e-92, 2.287935423e-91, 6.97346578e-92, 2.555167305e-91, 2.262755092e-91]\n"
          ]
        },
        {
          "output_type": "execute_result",
          "data": {
            "text/plain": [
              "KstestResult(statistic=1.0, pvalue=0.0)"
            ]
          },
          "metadata": {},
          "execution_count": 54
        }
      ]
    }
  ]
}