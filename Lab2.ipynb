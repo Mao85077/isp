{
  "nbformat": 4,
  "nbformat_minor": 0,
  "metadata": {
    "colab": {
      "name": "Lab2.ipynb",
      "provenance": [],
      "authorship_tag": "ABX9TyOtHtpvWKgC8REi/Jzg1yME",
      "include_colab_link": true
    },
    "kernelspec": {
      "name": "python3",
      "display_name": "Python 3"
    },
    "language_info": {
      "name": "python"
    }
  },
  "cells": [
    {
      "cell_type": "markdown",
      "metadata": {
        "id": "view-in-github",
        "colab_type": "text"
      },
      "source": [
        "<a href=\"https://colab.research.google.com/github/Mao85077/isp/blob/main/Lab2.ipynb\" target=\"_parent\"><img src=\"https://colab.research.google.com/assets/colab-badge.svg\" alt=\"Open In Colab\"/></a>"
      ]
    },
    {
      "cell_type": "code",
      "metadata": {
        "id": "WNciis5bEv-U"
      },
      "source": [
        "import time\n",
        "import scipy.stats\n",
        "import numpy as np\n",
        "import pandas as pd\n",
        "import matplotlib.pyplot as plt\n",
        "from typing import Generator\n",
        "\n",
        "params = {'legend.fontsize': 'x-large',\n",
        "      'figure.figsize': (18, 10),\n",
        "      'axes.labelsize': 'x-large',\n",
        "      'axes.titlesize': 'x-large',\n",
        "      'xtick.labelsize': 'x-large',\n",
        "      'ytick.labelsize': 'x-large',\n",
        "      'lines.linewidth': 2}\n",
        "\n",
        "plt.rcParams.update(params)\n",
        "%matplotlib inline\n"
      ],
      "execution_count": 15,
      "outputs": []
    },
    {
      "cell_type": "markdown",
      "metadata": {
        "id": "vpFlJuH9IxtI"
      },
      "source": [
        "## **Initialize Varibles**"
      ]
    },
    {
      "cell_type": "code",
      "metadata": {
        "id": "IqwzfXlPJEF1"
      },
      "source": [
        "n = 10000\n",
        "a = 1664525\n",
        "c = 1013904223\n",
        "m = 2 ** 32\n",
        "x0 = int(time.time())\n",
        "result = [None] * n"
      ],
      "execution_count": 25,
      "outputs": []
    },
    {
      "cell_type": "markdown",
      "metadata": {
        "id": "qjtaCPZsJM6F"
      },
      "source": [
        "##**LGC Generation**"
      ]
    },
    {
      "cell_type": "code",
      "metadata": {
        "id": "yaBBv4N-Jbc5"
      },
      "source": [
        "def lcg(modulus: int, a: int, c: int, seed: int) -> Generator[int, None, None]:    \n",
        "    while True:\n",
        "        seed = (a * seed + c) % modulus        \n",
        "        yield seed\n",
        "\n",
        "for i in range(n):    \n",
        "    if i is 0:\n",
        "        result[i] = next(lcg(m, a, c, x0))\n",
        "    else:\n",
        "        result[i] = next(lcg(m, a, c, result[i - 1]))"
      ],
      "execution_count": 26,
      "outputs": []
    },
    {
      "cell_type": "markdown",
      "metadata": {
        "id": "vQl8tp3GJ1nx"
      },
      "source": [
        "##**Normalized and plot output data**"
      ]
    },
    {
      "cell_type": "code",
      "metadata": {
        "id": "Mfs89sY0KBCv",
        "outputId": "6170c297-c9e5-4eb5-8859-e7f759ae81f0",
        "colab": {
          "base_uri": "https://localhost:8080/",
          "height": 269
        }
      },
      "source": [
        "out = np.array(result)\n",
        "norm = np.linalg.norm(out)\n",
        "norm_out = out/norm\n",
        "\n",
        "#print(norm_out)\n",
        "\n",
        "plt.hist(x = norm_out)\n",
        "plt.grid(True)\n"
      ],
      "execution_count": 27,
      "outputs": [
        {
          "output_type": "display_data",
          "data": {
            "image/png": "[encoded data removed]",
            "text/plain": [
              "<Figure size 432x288 with 1 Axes>"
            ]
          },
          "metadata": {
            "needs_background": "light"
          }
        }
      ]
    }
  ]
}