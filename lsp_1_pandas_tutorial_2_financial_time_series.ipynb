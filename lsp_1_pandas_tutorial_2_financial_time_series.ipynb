{
  "nbformat": 4,
  "nbformat_minor": 0,
  "metadata": {
    "colab": {
      "name": "lsp_1_pandas_tutorial_2_financial_time_series.ipynb",
      "provenance": [],
      "collapsed_sections": [],
      "toc_visible": true
    },
    "kernelspec": {
      "name": "python3",
      "display_name": "Python 3"
    }
  },
  "cells": [
    {
      "cell_type": "code",
      "metadata": {
        "id": "ARD6tk57GNBP"
      },
      "source": [
        "%%capture\n",
        "\n",
        "!pip install ffn\n",
        "!pip install --upgrade pandas_datareader"
      ],
      "execution_count": null,
      "outputs": []
    },
    {
      "cell_type": "code",
      "metadata": {
        "id": "XaGR4vpSlabj"
      },
      "source": [
        "import ffn\n",
        "\n",
        "df = ffn.get(\"2330.tw, ^twii\", start = \"2020-1-1\")\n",
        "df.head()"
      ],
      "execution_count": null,
      "outputs": []
    },
    {
      "cell_type": "code",
      "metadata": {
        "id": "L4wwaczXlw5R"
      },
      "source": [
        "import matplotlib.pyplot as plt\n",
        "\n",
        "%matplotlib inline\n",
        "\n",
        "fig, ax = plt.subplots(figsize = (12, 6))\n",
        "ax.plot(df[\"2330tw\"])\n",
        "ax.set_ylabel(\"Price\")\n",
        "ax.grid(True)\n",
        "\n",
        "ax2 = ax.twinx()\n",
        "ax2.plot(df[\"twii\"], color = \"red\")\n",
        "ax2.set_ylabel(\"Index\")"
      ],
      "execution_count": null,
      "outputs": []
    },
    {
      "cell_type": "code",
      "metadata": {
        "id": "RL4SmjYOJKuU"
      },
      "source": [
        "df2 = df.pct_change()\n",
        "df2.hist(figsize = (10, 5), bins = 40)"
      ],
      "execution_count": null,
      "outputs": []
    },
    {
      "cell_type": "code",
      "metadata": {
        "id": "f3I_4LP6HuDc"
      },
      "source": [
        "df2.corr()"
      ],
      "execution_count": null,
      "outputs": []
    },
    {
      "cell_type": "code",
      "metadata": {
        "id": "h-eYzMR5oU_E"
      },
      "source": [
        "df2.plot.scatter(x = \"2330tw\", y = \"twii\", figsize = (6, 6), grid = True)\n",
        "plt.title(\"Correlation of Return Rates = {0}\".format(round(df2.corr().values[0, 1], 2)))"
      ],
      "execution_count": null,
      "outputs": []
    }
  ]
}