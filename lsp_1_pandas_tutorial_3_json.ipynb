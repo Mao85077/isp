{
  "nbformat": 4,
  "nbformat_minor": 0,
  "metadata": {
    "colab": {
      "name": "lsp_1_pandas_tutorial_3_json.ipynb",
      "provenance": [],
      "collapsed_sections": []
    },
    "kernelspec": {
      "name": "python3",
      "display_name": "Python 3"
    }
  },
  "cells": [
    {
      "cell_type": "markdown",
      "metadata": {
        "id": "Ado5MF6M3BSi"
      },
      "source": [
        "# How to Read JSON Files with Pandas\n",
        "- Data source: https://opendata.culture.tw/frontsite/openData/detail?datasetId=668\n",
        "    - File: https://boxoffice.tfi.org.tw/api/export?start=2021/05/10&end=2021/05/16"
      ]
    },
    {
      "cell_type": "code",
      "metadata": {
        "id": "c0OsgSeWz8VT"
      },
      "source": [
        "import pandas as pd\n",
        "\n",
        "tbl = pd.read_json(\"export.json\")"
      ],
      "execution_count": null,
      "outputs": []
    },
    {
      "cell_type": "code",
      "metadata": {
        "id": "BtEVpv9d0Buw"
      },
      "source": [
        "tbl.head()"
      ],
      "execution_count": null,
      "outputs": []
    },
    {
      "cell_type": "code",
      "metadata": {
        "id": "Yg93s87d1gWV"
      },
      "source": [
        "tbl2 = pd.DataFrame(tbl[\"list\"].to_list())\n",
        "\n",
        "tbl2.head()"
      ],
      "execution_count": null,
      "outputs": []
    }
  ]
}