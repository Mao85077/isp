{
  "nbformat": 4,
  "nbformat_minor": 0,
  "metadata": {
    "colab": {
      "name": "lsp_lab1_demo.ipynb",
      "provenance": [],
      "collapsed_sections": []
    },
    "kernelspec": {
      "name": "python3",
      "display_name": "Python 3"
    }
  },
  "cells": [
    {
      "cell_type": "code",
      "metadata": {
        "id": "amNqVNDwoJ3s"
      },
      "source": [
        "%%capture\n",
        "\n",
        "!pip install ffn\n",
        "!pip install --upgrade pandas_datareader"
      ],
      "execution_count": null,
      "outputs": []
    },
    {
      "cell_type": "code",
      "metadata": {
        "id": "SM8d8yDNw_PX"
      },
      "source": [
        "import ffn\n",
        "import matplotlib.pyplot as plt\n",
        "\n",
        "params = {'legend.fontsize': 'x-large',\n",
        "      'figure.figsize': (12, 6),\n",
        "      'axes.labelsize': 'x-large',\n",
        "      'axes.titlesize': 'x-large',\n",
        "      'xtick.labelsize': 'x-large',\n",
        "      'ytick.labelsize': 'x-large',\n",
        "      'lines.linewidth': 2}\n",
        "plt.rcParams.update(params)\n",
        "\n",
        "%matplotlib inline"
      ],
      "execution_count": null,
      "outputs": []
    },
    {
      "cell_type": "code",
      "metadata": {
        "id": "v9G_k76ZoXFE"
      },
      "source": [
        "tbl = ffn.get(\"fb, aapl, amzn, nflx, goog\", start = \"2020-01-01\")\n",
        "\n",
        "tbl"
      ],
      "execution_count": null,
      "outputs": []
    },
    {
      "cell_type": "code",
      "metadata": {
        "id": "bB--gOnczDWZ"
      },
      "source": [
        "tbl = tbl.rebase() / 100"
      ],
      "execution_count": null,
      "outputs": []
    },
    {
      "cell_type": "code",
      "metadata": {
        "id": "dDNPyEXpozEA"
      },
      "source": [
        "tbl[\"My Position\"] = tbl.sum(axis = 1)\n",
        "tbl.head()"
      ],
      "execution_count": null,
      "outputs": []
    },
    {
      "cell_type": "code",
      "metadata": {
        "id": "r-MnBXSNqmZE"
      },
      "source": [
        "ax = (tbl[\"My Position\"].rebase() - 100).plot.line(grid = True, figsize = (12, 6))\n",
        "ax.set_ylabel(\"Return rate (%)\")\n",
        "ax.set_title(\"My Portfolio\")"
      ],
      "execution_count": null,
      "outputs": []
    },
    {
      "cell_type": "code",
      "metadata": {
        "id": "CoohI8ESq5lq"
      },
      "source": [
        "tbl.to_excel(\"output.xlsx\")"
      ],
      "execution_count": null,
      "outputs": []
    },
    {
      "cell_type": "code",
      "metadata": {
        "id": "8ZEGG78bhsza"
      },
      "source": [
        "ixic = ffn.get(\"^ixic\", start = \"2020-01-01\")\n",
        "\n",
        "ax = (tbl[\"My Position\"].rebase() - 100).plot.line(grid = True, figsize = (12, 6))\n",
        "ax.set_ylabel(\"Return rate (%)\")\n",
        "ax.set_title(\"Benchmark\")\n",
        "\n",
        "(ixic.rebase() - 100).plot.line(ax = ax, grid = True)\n",
        "plt.legend([\"My portfolio\", \"NASDAQ\"])"
      ],
      "execution_count": null,
      "outputs": []
    }
  ]
}